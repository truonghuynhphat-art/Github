#Introduction
##This notebook will be used to prepare the capstone project pertaining the course 'Applied Data Science Capstone' by IBM.
Import pandas as pd.
Import Numpy as np.
