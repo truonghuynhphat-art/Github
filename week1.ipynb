{
 "cells": [
  {
   "cell_type": "markdown",
   "id": "median-macro",
   "metadata": {},
   "source": [
    "# A description of the problem and a discussion of the background."
   ]
  },
  {
   "cell_type": "markdown",
   "id": "emerging-greece",
   "metadata": {},
   "source": [
    "A travel agency would like to open a new travel package to bring tourists to New York City. Before providing the new package, the travel agency would like to dig deep into New York City since they want to be differed from other travel package, and to provide an in-depth experience to its clints. So, they want to count the venues of each neiborhood and identify some distinct area and provides tour guide to walk through some of the areas with clients."
   ]
  },
  {
   "cell_type": "markdown",
   "id": "tutorial-threshold",
   "metadata": {},
   "source": [
    "# A description of the data and how it will be used to solve the problem."
   ]
  },
  {
   "cell_type": "markdown",
   "id": "deluxe-christianity",
   "metadata": {},
   "source": [
    "The map data is avaiable through Foursquare API, and the neiborhood information can be found online through zipcode."
   ]
  }
 ],
 "metadata": {
  "kernelspec": {
   "display_name": "Python 3",
   "language": "python",
   "name": "python3"
  },
  "language_info": {
   "codemirror_mode": {
    "name": "ipython",
    "version": 3
   },
   "file_extension": ".py",
   "mimetype": "text/x-python",
   "name": "python",
   "nbconvert_exporter": "python",
   "pygments_lexer": "ipython3",
   "version": "3.8.5"
  }
 },
 "nbformat": 4,
 "nbformat_minor": 5
}
